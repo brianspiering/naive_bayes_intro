{
 "cells": [
  {
   "cell_type": "code",
   "execution_count": 26,
   "id": "97aaae1a",
   "metadata": {
    "slideshow": {
     "slide_type": "notes"
    }
   },
   "outputs": [],
   "source": [
    "reset -fs"
   ]
  },
  {
   "cell_type": "code",
   "execution_count": 27,
   "id": "4a13b667",
   "metadata": {
    "slideshow": {
     "slide_type": "notes"
    }
   },
   "outputs": [],
   "source": [
    "import numpy as np"
   ]
  },
  {
   "cell_type": "markdown",
   "id": "1f1a0296",
   "metadata": {
    "slideshow": {
     "slide_type": "slide"
    }
   },
   "source": [
    "<center><h2> Naive Bayes in Scikit-learn</h2></center>"
   ]
  },
  {
   "cell_type": "code",
   "execution_count": 28,
   "id": "690dae07",
   "metadata": {
    "slideshow": {
     "slide_type": "notes"
    }
   },
   "outputs": [],
   "source": [
    "corpus  = [\"🐈 🐯 🐱 🐩 🐱\", \n",
    "           \"🐶 🐶 🐈 🐶 🐩 🐈 🐶 🐶\", \n",
    "           \"🐈 🐈 🐯 🐶 🐈\",  \n",
    "           \"🐈 🐈 🐈\",\n",
    "           \"🐶 🐶 🐯 🐈 🐩 🐱 🐩 🐶 🐩 🐶 \"]\n",
    "\n",
    "y = ['cat', 'dog', 'cat', 'cat','dog'] "
   ]
  },
  {
   "cell_type": "code",
   "execution_count": 29,
   "id": "e1751679",
   "metadata": {
    "slideshow": {
     "slide_type": "fragment"
    }
   },
   "outputs": [
    {
     "name": "stdout",
     "output_type": "stream",
     "text": [
      "cat: 🐈 🐯 🐱 🐩 🐱\n",
      "dog: 🐶 🐶 🐈 🐶 🐩 🐈 🐶 🐶\n",
      "cat: 🐈 🐈 🐯 🐶 🐈\n",
      "cat: 🐈 🐈 🐈\n",
      "dog: 🐶 🐶 🐯 🐈 🐩 🐱 🐩 🐶 🐩 🐶 \n"
     ]
    }
   ],
   "source": [
    "for target, item,  in zip(y, corpus):\n",
    "    print(f\"{target}: {item}\")"
   ]
  },
  {
   "cell_type": "code",
   "execution_count": 30,
   "id": "614e6925",
   "metadata": {
    "slideshow": {
     "slide_type": "slide"
    }
   },
   "outputs": [],
   "source": [
    "from sklearn.feature_extraction.text import CountVectorizer\n",
    "\n",
    "vectorizer = CountVectorizer(token_pattern=r'[^\\s]+')\n",
    "X = vectorizer.fit_transform(corpus)"
   ]
  },
  {
   "cell_type": "code",
   "execution_count": 31,
   "id": "12d05c8c",
   "metadata": {
    "slideshow": {
     "slide_type": "slide"
    }
   },
   "outputs": [
    {
     "name": "stdout",
     "output_type": "stream",
     "text": [
      "['🐈' '🐩' '🐯' '🐱' '🐶']\n",
      "[[1 1 1 2 0]\n",
      " [2 1 0 0 5]\n",
      " [3 0 1 0 1]\n",
      " [3 0 0 0 0]\n",
      " [1 3 1 1 4]]\n"
     ]
    }
   ],
   "source": [
    "# Introspect features\n",
    "print(vectorizer.get_feature_names_out())\n",
    "print(X.toarray())"
   ]
  },
  {
   "cell_type": "code",
   "execution_count": 32,
   "id": "e6f9cb80",
   "metadata": {
    "slideshow": {
     "slide_type": "slide"
    }
   },
   "outputs": [
    {
     "data": {
      "text/plain": [
       "MultinomialNB()"
      ]
     },
     "execution_count": 32,
     "metadata": {},
     "output_type": "execute_result"
    }
   ],
   "source": [
    "from sklearn.naive_bayes import MultinomialNB\n",
    "\n",
    "clf = MultinomialNB()\n",
    "clf.fit(X, y)"
   ]
  },
  {
   "cell_type": "code",
   "execution_count": 33,
   "id": "00d15a04",
   "metadata": {
    "slideshow": {
     "slide_type": "fragment"
    }
   },
   "outputs": [
    {
     "name": "stdout",
     "output_type": "stream",
     "text": [
      "['cat']\n"
     ]
    }
   ],
   "source": [
    "# Prediction on training data: \"🐈 🐯 🐱 🐩 🐱\"\n",
    "print(clf.predict([[1, 1, 1, 2, 0]]))"
   ]
  },
  {
   "cell_type": "code",
   "execution_count": 35,
   "id": "565266b6",
   "metadata": {
    "slideshow": {
     "slide_type": "slide"
    }
   },
   "outputs": [
    {
     "name": "stdout",
     "output_type": "stream",
     "text": [
      "['cat']\n"
     ]
    }
   ],
   "source": [
    "# Prediction on unseen data\n",
    "new_input = \"🐱\"\n",
    "# new_input = \"🐱 🐩 \"\n",
    "# new_input = \"🐱 🐩 🐩\"\n",
    "vectorized = vectorizer.transform([new_input])\n",
    "print(clf.predict(vectorized))"
   ]
  },
  {
   "cell_type": "code",
   "execution_count": 36,
   "id": "8b58b2a4",
   "metadata": {
    "slideshow": {
     "slide_type": "slide"
    }
   },
   "outputs": [
    {
     "name": "stdout",
     "output_type": "stream",
     "text": [
      "Features - Probability\n",
      "\n",
      "'cat' category:\n",
      "🐈 - 0.444\n",
      "🐩 - 0.111\n",
      "🐯 - 0.167\n",
      "🐱 - 0.167\n",
      "🐶 - 0.111\n"
     ]
    }
   ],
   "source": [
    "# Let's interpert the feature weights\n",
    "print(\"Features - Probability\", end=\"\\n\\n\")\n",
    "print(\"'cat' category:\")\n",
    "for feature, log_prob_ in zip(vectorizer.get_feature_names_out(), clf.feature_log_prob_[0]):\n",
    "    print(f\"{feature} - {np.exp(log_prob_):.3f}\")"
   ]
  },
  {
   "cell_type": "code",
   "execution_count": 37,
   "id": "af091777",
   "metadata": {
    "slideshow": {
     "slide_type": "slide"
    }
   },
   "outputs": [
    {
     "name": "stdout",
     "output_type": "stream",
     "text": [
      "Features - Probability\n",
      "\n",
      "'dog' category:\n",
      "🐈 - 0.174\n",
      "🐩 - 0.217\n",
      "🐯 - 0.087\n",
      "🐱 - 0.087\n",
      "🐶 - 0.435\n"
     ]
    }
   ],
   "source": [
    "# Let's interpert the feature weights\n",
    "print(\"Features - Probability\", end=\"\\n\\n\")\n",
    "print(\"'dog' category:\")\n",
    "for feature, log_prob_ in zip(vectorizer.get_feature_names_out(), clf.feature_log_prob_[1]):\n",
    "    print(f\"{feature} - {np.exp(log_prob_):.3f}\")"
   ]
  },
  {
   "cell_type": "markdown",
   "id": "45d29ce2",
   "metadata": {
    "slideshow": {
     "slide_type": "slide"
    }
   },
   "source": [
    "<center><img src=\"images/questions.png\" width=\"65%\"/></center>"
   ]
  },
  {
   "cell_type": "markdown",
   "id": "53dc86bb",
   "metadata": {
    "slideshow": {
     "slide_type": "slide"
    }
   },
   "source": [
    "<br>\n",
    "<br> \n",
    "<br>"
   ]
  },
  {
   "cell_type": "markdown",
   "id": "15ee653d",
   "metadata": {
    "slideshow": {
     "slide_type": "notes"
    }
   },
   "source": [
    "<center><h2>Sources of Inspiration</h2></center>\n",
    "\n",
    "- https://scikit-learn.org/stable/modules/generated/sklearn.feature_extraction.text.CountVectorizer.html\n",
    "- https://stackoverflow.com/questions/57333183/sk-learn-countvectorizer-keeping-emojis-as-words\n",
    "- https://scikit-learn.org/stable/modules/generated/sklearn.naive_bayes.MultinomialNB.html#sklearn.naive_bayes.MultinomialNB"
   ]
  }
 ],
 "metadata": {
  "celltoolbar": "Slideshow",
  "kernelspec": {
   "display_name": "Python (deep_learning)",
   "language": "python",
   "name": "deep_learning"
  },
  "language_info": {
   "codemirror_mode": {
    "name": "ipython",
    "version": 3
   },
   "file_extension": ".py",
   "mimetype": "text/x-python",
   "name": "python",
   "nbconvert_exporter": "python",
   "pygments_lexer": "ipython3",
   "version": "3.8.13"
  }
 },
 "nbformat": 4,
 "nbformat_minor": 5
}
