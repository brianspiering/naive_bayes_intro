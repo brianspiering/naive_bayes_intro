{
 "cells": [
  {
   "cell_type": "code",
   "execution_count": 11,
   "id": "97aaae1a",
   "metadata": {},
   "outputs": [],
   "source": [
    "reset -fs"
   ]
  },
  {
   "cell_type": "markdown",
   "id": "1f1a0296",
   "metadata": {},
   "source": [
    "Categorical Naive Bayes in Scikit-learn\n",
    "-------"
   ]
  },
  {
   "cell_type": "code",
   "execution_count": 15,
   "id": "690dae07",
   "metadata": {},
   "outputs": [],
   "source": [
    "corpus  = [\"🐈 🐯 🐱 🐩 🐱\", \n",
    "           \"🐶 🐶 🐈 🐶 🐩 🐈 🐶 🐶\", `\n",
    "           \"🐈 🐈 🐯 🐶 🐈\",  \n",
    "           \"🐈 🐈 🐈\",\n",
    "           \"🐶 🐶 🐯 🐈 🐩 🐱 🐩 🐶 🐩 🐶 \"]\n",
    "\n",
    "y = ['cat', 'dog', 'cat', 'cat','dog'] "
   ]
  },
  {
   "cell_type": "code",
   "execution_count": 18,
   "id": "614e6925",
   "metadata": {},
   "outputs": [
    {
     "data": {
      "text/plain": [
       "array(['🐈', '🐩', '🐯', '🐱', '🐶'], dtype=object)"
      ]
     },
     "execution_count": 18,
     "metadata": {},
     "output_type": "execute_result"
    }
   ],
   "source": [
    "from sklearn.feature_extraction.text import CountVectorizer\n",
    "\n",
    "vectorizer = CountVectorizer(token_pattern=r'[^\\s]+')\n",
    "X = vectorizer.fit_transform(corpus)\n"
   ]
  },
  {
   "cell_type": "code",
   "execution_count": 20,
   "id": "12d05c8c",
   "metadata": {},
   "outputs": [
    {
     "name": "stdout",
     "output_type": "stream",
     "text": [
      "['🐈' '🐩' '🐯' '🐱' '🐶']\n",
      "[[1 1 1 2 0]\n",
      " [2 1 0 0 5]\n",
      " [3 0 1 0 1]\n",
      " [3 0 0 0 0]\n",
      " [1 3 1 1 4]]\n"
     ]
    }
   ],
   "source": [
    "# Introspect features\n",
    "print(vectorizer.get_feature_names_out())\n",
    "print(X.toarray())"
   ]
  },
  {
   "cell_type": "code",
   "execution_count": 21,
   "id": "e6f9cb80",
   "metadata": {},
   "outputs": [
    {
     "data": {
      "text/plain": [
       "MultinomialNB()"
      ]
     },
     "execution_count": 21,
     "metadata": {},
     "output_type": "execute_result"
    }
   ],
   "source": [
    "from sklearn.naive_bayes import MultinomialNB\n",
    "\n",
    "clf = MultinomialNB()\n",
    "clf.fit(X, y)"
   ]
  },
  {
   "cell_type": "code",
   "execution_count": 24,
   "id": "00d15a04",
   "metadata": {},
   "outputs": [
    {
     "name": "stdout",
     "output_type": "stream",
     "text": [
      "['cat']\n"
     ]
    }
   ],
   "source": [
    "# Check prediction of \"🐈 🐯 🐱 🐩 🐱\"\n",
    "print(clf.predict([[1, 1, 1, 2, 0]]))"
   ]
  },
  {
   "cell_type": "code",
   "execution_count": 35,
   "id": "565266b6",
   "metadata": {},
   "outputs": [
    {
     "name": "stdout",
     "output_type": "stream",
     "text": [
      "['dog']\n"
     ]
    }
   ],
   "source": [
    "# Prediction on unseen data\n",
    "new_input = \"🐱 🐩 🐱\"\n",
    "new_input = \"🐱 🐩 🐱 🐩\"\n",
    "new_input = \"🐱 🐩 🐱 🐩 🐩\"\n",
    "vectorized = vectorizer.transform([new_input])\n",
    "print(clf.predict(vectorized))"
   ]
  },
  {
   "cell_type": "markdown",
   "id": "53dc86bb",
   "metadata": {},
   "source": [
    "<br>\n",
    "<br> \n",
    "<br>\n",
    "\n",
    "----"
   ]
  },
  {
   "cell_type": "markdown",
   "id": "15ee653d",
   "metadata": {},
   "source": [
    "<center><h2>Sources of Inspiration</h2></center>\n",
    "\n",
    "- https://scikit-learn.org/stable/modules/generated/sklearn.feature_extraction.text.CountVectorizer.html\n",
    "- https://stackoverflow.com/questions/57333183/sk-learn-countvectorizer-keeping-emojis-as-words\n",
    "- https://scikit-learn.org/stable/modules/generated/sklearn.naive_bayes.MultinomialNB.html#sklearn.naive_bayes.MultinomialNB"
   ]
  }
 ],
 "metadata": {
  "kernelspec": {
   "display_name": "Python (deep_learning)",
   "language": "python",
   "name": "deep_learning"
  },
  "language_info": {
   "codemirror_mode": {
    "name": "ipython",
    "version": 3
   },
   "file_extension": ".py",
   "mimetype": "text/x-python",
   "name": "python",
   "nbconvert_exporter": "python",
   "pygments_lexer": "ipython3",
   "version": "3.8.13"
  }
 },
 "nbformat": 4,
 "nbformat_minor": 5
}
